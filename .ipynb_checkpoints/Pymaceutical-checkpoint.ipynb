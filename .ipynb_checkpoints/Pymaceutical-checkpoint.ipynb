{
 "cells": [
  {
   "cell_type": "markdown",
   "metadata": {},
   "source": [
    "## Observations and Insight\n"
   ]
  },
  {
   "cell_type": "markdown",
   "metadata": {},
   "source": [
    "1. Out of the four drugs analyzed it appears that two drugs, Capomulin and Ramicane, have a lower median Tumor Volume which indicates they are more positive in results than Infubinol and Ceftamine.\n",
    "\n",
    "2. Mouse g316 tumor volume increased gently as the timepoint increased then had a great decline after timepoint 25.  It can be hypothesized that the drug regimen takes effect after about 25 days. Othe rmouses should be tested to see if the same hypothesis can be concluded.\n",
    "\n",
    "3. There is a positive correlation between weight and average tumor volume in the drug Regimen Capomulin. It would be interesting to see if the other drug regimens show this type of correlation."
   ]
  },
  {
   "cell_type": "markdown",
   "metadata": {},
   "source": [
    "## Dependencies and Starter Code"
   ]
  },
  {
   "cell_type": "code",
   "execution_count": 1,
   "metadata": {},
   "outputs": [],
   "source": [
    "# Dependencies and Setup\n",
    "import matplotlib.pyplot as plt\n",
    "import pandas as pd\n",
    "import numpy as np\n",
    "import scipy.stats as st\n",
    "\n",
    "# Study data files\n",
    "mouse_metadata = \"Mouse_metadata.csv\"\n",
    "study_results = \"Study_results.csv\"\n",
    "\n",
    "# Read the mouse data and the study results\n",
    "mouse_metadata = pd.read_csv(mouse_metadata)\n",
    "study_results = pd.read_csv(study_results)"
   ]
  },
  {
   "cell_type": "code",
   "execution_count": 2,
   "metadata": {},
   "outputs": [
    {
     "data": {
      "text/html": [
       "<div>\n",
       "<style scoped>\n",
       "    .dataframe tbody tr th:only-of-type {\n",
       "        vertical-align: middle;\n",
       "    }\n",
       "\n",
       "    .dataframe tbody tr th {\n",
       "        vertical-align: top;\n",
       "    }\n",
       "\n",
       "    .dataframe thead th {\n",
       "        text-align: right;\n",
       "    }\n",
       "</style>\n",
       "<table border=\"1\" class=\"dataframe\">\n",
       "  <thead>\n",
       "    <tr style=\"text-align: right;\">\n",
       "      <th></th>\n",
       "      <th>Mouse ID</th>\n",
       "      <th>Drug Regimen</th>\n",
       "      <th>Sex</th>\n",
       "      <th>Age_months</th>\n",
       "      <th>Weight (g)</th>\n",
       "    </tr>\n",
       "  </thead>\n",
       "  <tbody>\n",
       "    <tr>\n",
       "      <td>0</td>\n",
       "      <td>k403</td>\n",
       "      <td>Ramicane</td>\n",
       "      <td>Male</td>\n",
       "      <td>21</td>\n",
       "      <td>16</td>\n",
       "    </tr>\n",
       "    <tr>\n",
       "      <td>1</td>\n",
       "      <td>s185</td>\n",
       "      <td>Capomulin</td>\n",
       "      <td>Female</td>\n",
       "      <td>3</td>\n",
       "      <td>17</td>\n",
       "    </tr>\n",
       "    <tr>\n",
       "      <td>2</td>\n",
       "      <td>x401</td>\n",
       "      <td>Capomulin</td>\n",
       "      <td>Female</td>\n",
       "      <td>16</td>\n",
       "      <td>15</td>\n",
       "    </tr>\n",
       "    <tr>\n",
       "      <td>3</td>\n",
       "      <td>m601</td>\n",
       "      <td>Capomulin</td>\n",
       "      <td>Male</td>\n",
       "      <td>22</td>\n",
       "      <td>17</td>\n",
       "    </tr>\n",
       "    <tr>\n",
       "      <td>4</td>\n",
       "      <td>g791</td>\n",
       "      <td>Ramicane</td>\n",
       "      <td>Male</td>\n",
       "      <td>11</td>\n",
       "      <td>16</td>\n",
       "    </tr>\n",
       "  </tbody>\n",
       "</table>\n",
       "</div>"
      ],
      "text/plain": [
       "  Mouse ID Drug Regimen     Sex  Age_months  Weight (g)\n",
       "0     k403     Ramicane    Male          21          16\n",
       "1     s185    Capomulin  Female           3          17\n",
       "2     x401    Capomulin  Female          16          15\n",
       "3     m601    Capomulin    Male          22          17\n",
       "4     g791     Ramicane    Male          11          16"
      ]
     },
     "execution_count": 2,
     "metadata": {},
     "output_type": "execute_result"
    }
   ],
   "source": [
    "#Show the mouse data\n",
    "mouse_metadata.head()"
   ]
  },
  {
   "cell_type": "code",
   "execution_count": 3,
   "metadata": {},
   "outputs": [
    {
     "data": {
      "text/html": [
       "<div>\n",
       "<style scoped>\n",
       "    .dataframe tbody tr th:only-of-type {\n",
       "        vertical-align: middle;\n",
       "    }\n",
       "\n",
       "    .dataframe tbody tr th {\n",
       "        vertical-align: top;\n",
       "    }\n",
       "\n",
       "    .dataframe thead th {\n",
       "        text-align: right;\n",
       "    }\n",
       "</style>\n",
       "<table border=\"1\" class=\"dataframe\">\n",
       "  <thead>\n",
       "    <tr style=\"text-align: right;\">\n",
       "      <th></th>\n",
       "      <th>Mouse ID</th>\n",
       "      <th>Timepoint</th>\n",
       "      <th>Tumor Volume (mm3)</th>\n",
       "      <th>Metastatic Sites</th>\n",
       "    </tr>\n",
       "  </thead>\n",
       "  <tbody>\n",
       "    <tr>\n",
       "      <td>0</td>\n",
       "      <td>b128</td>\n",
       "      <td>0</td>\n",
       "      <td>45.0</td>\n",
       "      <td>0</td>\n",
       "    </tr>\n",
       "    <tr>\n",
       "      <td>1</td>\n",
       "      <td>f932</td>\n",
       "      <td>0</td>\n",
       "      <td>45.0</td>\n",
       "      <td>0</td>\n",
       "    </tr>\n",
       "    <tr>\n",
       "      <td>2</td>\n",
       "      <td>g107</td>\n",
       "      <td>0</td>\n",
       "      <td>45.0</td>\n",
       "      <td>0</td>\n",
       "    </tr>\n",
       "    <tr>\n",
       "      <td>3</td>\n",
       "      <td>a457</td>\n",
       "      <td>0</td>\n",
       "      <td>45.0</td>\n",
       "      <td>0</td>\n",
       "    </tr>\n",
       "    <tr>\n",
       "      <td>4</td>\n",
       "      <td>c819</td>\n",
       "      <td>0</td>\n",
       "      <td>45.0</td>\n",
       "      <td>0</td>\n",
       "    </tr>\n",
       "  </tbody>\n",
       "</table>\n",
       "</div>"
      ],
      "text/plain": [
       "  Mouse ID  Timepoint  Tumor Volume (mm3)  Metastatic Sites\n",
       "0     b128          0                45.0                 0\n",
       "1     f932          0                45.0                 0\n",
       "2     g107          0                45.0                 0\n",
       "3     a457          0                45.0                 0\n",
       "4     c819          0                45.0                 0"
      ]
     },
     "execution_count": 3,
     "metadata": {},
     "output_type": "execute_result"
    }
   ],
   "source": [
    "#Show the study result data\n",
    "study_results.head()"
   ]
  },
  {
   "cell_type": "code",
   "execution_count": 4,
   "metadata": {},
   "outputs": [
    {
     "data": {
      "text/html": [
       "<div>\n",
       "<style scoped>\n",
       "    .dataframe tbody tr th:only-of-type {\n",
       "        vertical-align: middle;\n",
       "    }\n",
       "\n",
       "    .dataframe tbody tr th {\n",
       "        vertical-align: top;\n",
       "    }\n",
       "\n",
       "    .dataframe thead th {\n",
       "        text-align: right;\n",
       "    }\n",
       "</style>\n",
       "<table border=\"1\" class=\"dataframe\">\n",
       "  <thead>\n",
       "    <tr style=\"text-align: right;\">\n",
       "      <th></th>\n",
       "      <th>Mouse ID</th>\n",
       "      <th>Timepoint</th>\n",
       "      <th>Tumor Volume (mm3)</th>\n",
       "      <th>Metastatic Sites</th>\n",
       "      <th>Drug Regimen</th>\n",
       "      <th>Sex</th>\n",
       "      <th>Age_months</th>\n",
       "      <th>Weight (g)</th>\n",
       "    </tr>\n",
       "  </thead>\n",
       "  <tbody>\n",
       "    <tr>\n",
       "      <td>0</td>\n",
       "      <td>b128</td>\n",
       "      <td>0</td>\n",
       "      <td>45.000000</td>\n",
       "      <td>0</td>\n",
       "      <td>Capomulin</td>\n",
       "      <td>Female</td>\n",
       "      <td>9</td>\n",
       "      <td>22</td>\n",
       "    </tr>\n",
       "    <tr>\n",
       "      <td>1</td>\n",
       "      <td>b128</td>\n",
       "      <td>5</td>\n",
       "      <td>45.651331</td>\n",
       "      <td>0</td>\n",
       "      <td>Capomulin</td>\n",
       "      <td>Female</td>\n",
       "      <td>9</td>\n",
       "      <td>22</td>\n",
       "    </tr>\n",
       "    <tr>\n",
       "      <td>2</td>\n",
       "      <td>b128</td>\n",
       "      <td>10</td>\n",
       "      <td>43.270852</td>\n",
       "      <td>0</td>\n",
       "      <td>Capomulin</td>\n",
       "      <td>Female</td>\n",
       "      <td>9</td>\n",
       "      <td>22</td>\n",
       "    </tr>\n",
       "    <tr>\n",
       "      <td>3</td>\n",
       "      <td>b128</td>\n",
       "      <td>15</td>\n",
       "      <td>43.784893</td>\n",
       "      <td>0</td>\n",
       "      <td>Capomulin</td>\n",
       "      <td>Female</td>\n",
       "      <td>9</td>\n",
       "      <td>22</td>\n",
       "    </tr>\n",
       "    <tr>\n",
       "      <td>4</td>\n",
       "      <td>b128</td>\n",
       "      <td>20</td>\n",
       "      <td>42.731552</td>\n",
       "      <td>0</td>\n",
       "      <td>Capomulin</td>\n",
       "      <td>Female</td>\n",
       "      <td>9</td>\n",
       "      <td>22</td>\n",
       "    </tr>\n",
       "  </tbody>\n",
       "</table>\n",
       "</div>"
      ],
      "text/plain": [
       "  Mouse ID  Timepoint  Tumor Volume (mm3)  Metastatic Sites Drug Regimen  \\\n",
       "0     b128          0           45.000000                 0    Capomulin   \n",
       "1     b128          5           45.651331                 0    Capomulin   \n",
       "2     b128         10           43.270852                 0    Capomulin   \n",
       "3     b128         15           43.784893                 0    Capomulin   \n",
       "4     b128         20           42.731552                 0    Capomulin   \n",
       "\n",
       "      Sex  Age_months  Weight (g)  \n",
       "0  Female           9          22  \n",
       "1  Female           9          22  \n",
       "2  Female           9          22  \n",
       "3  Female           9          22  \n",
       "4  Female           9          22  "
      ]
     },
     "execution_count": 4,
     "metadata": {},
     "output_type": "execute_result"
    }
   ],
   "source": [
    "#Merge data \n",
    "merge_data= study_results.merge(mouse_metadata, on= \"Mouse ID\")\n",
    "merge_data.head()"
   ]
  },
  {
   "cell_type": "markdown",
   "metadata": {},
   "source": [
    "## Summary and Statistics"
   ]
  },
  {
   "cell_type": "code",
   "execution_count": 5,
   "metadata": {},
   "outputs": [],
   "source": [
    "# #Another way to Groupby using aggregate\n",
    "# drug_data= merge_data.groupby(\"Drug Regimen\")\n",
    "# #Aggregtions\n",
    "# aggregations = {\n",
    "   \n",
    "#     \"Tumor Volume (mm3)\": { \n",
    "#         \"Mean Tumor Volume\": 'mean',  \n",
    "#         'Median Tumor Volume': 'median',\n",
    "#         \"Tumor Volume Variance\": 'var',\n",
    "#         \"Tumor Volume Std. Dev.\":'std',\n",
    "#         \"Tumor Volume Std. Err.\":'sem'\n",
    "#     }\n",
    "# }\n",
    "# drug_data= drug_data.agg(aggregations)\n"
   ]
  },
  {
   "cell_type": "code",
   "execution_count": 6,
   "metadata": {},
   "outputs": [
    {
     "data": {
      "text/html": [
       "<div>\n",
       "<style scoped>\n",
       "    .dataframe tbody tr th:only-of-type {\n",
       "        vertical-align: middle;\n",
       "    }\n",
       "\n",
       "    .dataframe tbody tr th {\n",
       "        vertical-align: top;\n",
       "    }\n",
       "\n",
       "    .dataframe thead th {\n",
       "        text-align: right;\n",
       "    }\n",
       "</style>\n",
       "<table border=\"1\" class=\"dataframe\">\n",
       "  <thead>\n",
       "    <tr style=\"text-align: right;\">\n",
       "      <th></th>\n",
       "      <th>Count</th>\n",
       "      <th>Mean</th>\n",
       "      <th>Median</th>\n",
       "      <th>Variance</th>\n",
       "      <th>Std</th>\n",
       "      <th>Sem</th>\n",
       "    </tr>\n",
       "    <tr>\n",
       "      <th>Drug Regimen</th>\n",
       "      <th></th>\n",
       "      <th></th>\n",
       "      <th></th>\n",
       "      <th></th>\n",
       "      <th></th>\n",
       "      <th></th>\n",
       "    </tr>\n",
       "  </thead>\n",
       "  <tbody>\n",
       "    <tr>\n",
       "      <td>Capomulin</td>\n",
       "      <td>230</td>\n",
       "      <td>40.675741</td>\n",
       "      <td>41.557809</td>\n",
       "      <td>24.947764</td>\n",
       "      <td>4.994774</td>\n",
       "      <td>0.329346</td>\n",
       "    </tr>\n",
       "    <tr>\n",
       "      <td>Ramicane</td>\n",
       "      <td>228</td>\n",
       "      <td>40.216745</td>\n",
       "      <td>40.673236</td>\n",
       "      <td>23.486704</td>\n",
       "      <td>4.846308</td>\n",
       "      <td>0.320955</td>\n",
       "    </tr>\n",
       "    <tr>\n",
       "      <td>Ketapril</td>\n",
       "      <td>188</td>\n",
       "      <td>55.235638</td>\n",
       "      <td>53.698743</td>\n",
       "      <td>68.553577</td>\n",
       "      <td>8.279709</td>\n",
       "      <td>0.603860</td>\n",
       "    </tr>\n",
       "    <tr>\n",
       "      <td>Naftisol</td>\n",
       "      <td>186</td>\n",
       "      <td>54.331565</td>\n",
       "      <td>52.509285</td>\n",
       "      <td>66.173479</td>\n",
       "      <td>8.134708</td>\n",
       "      <td>0.596466</td>\n",
       "    </tr>\n",
       "    <tr>\n",
       "      <td>Zoniferol</td>\n",
       "      <td>182</td>\n",
       "      <td>53.236507</td>\n",
       "      <td>51.818479</td>\n",
       "      <td>48.533355</td>\n",
       "      <td>6.966589</td>\n",
       "      <td>0.516398</td>\n",
       "    </tr>\n",
       "    <tr>\n",
       "      <td>Placebo</td>\n",
       "      <td>181</td>\n",
       "      <td>54.033581</td>\n",
       "      <td>52.288934</td>\n",
       "      <td>61.168083</td>\n",
       "      <td>7.821003</td>\n",
       "      <td>0.581331</td>\n",
       "    </tr>\n",
       "    <tr>\n",
       "      <td>Stelasyn</td>\n",
       "      <td>181</td>\n",
       "      <td>54.233149</td>\n",
       "      <td>52.431737</td>\n",
       "      <td>59.450562</td>\n",
       "      <td>7.710419</td>\n",
       "      <td>0.573111</td>\n",
       "    </tr>\n",
       "    <tr>\n",
       "      <td>Ceftamin</td>\n",
       "      <td>178</td>\n",
       "      <td>52.591172</td>\n",
       "      <td>51.776157</td>\n",
       "      <td>39.290177</td>\n",
       "      <td>6.268188</td>\n",
       "      <td>0.469821</td>\n",
       "    </tr>\n",
       "    <tr>\n",
       "      <td>Infubinol</td>\n",
       "      <td>178</td>\n",
       "      <td>52.884795</td>\n",
       "      <td>51.820584</td>\n",
       "      <td>43.128684</td>\n",
       "      <td>6.567243</td>\n",
       "      <td>0.492236</td>\n",
       "    </tr>\n",
       "    <tr>\n",
       "      <td>Propriva</td>\n",
       "      <td>161</td>\n",
       "      <td>52.322552</td>\n",
       "      <td>50.854632</td>\n",
       "      <td>42.351070</td>\n",
       "      <td>6.507770</td>\n",
       "      <td>0.512884</td>\n",
       "    </tr>\n",
       "  </tbody>\n",
       "</table>\n",
       "</div>"
      ],
      "text/plain": [
       "              Count       Mean     Median   Variance       Std       Sem\n",
       "Drug Regimen                                                            \n",
       "Capomulin       230  40.675741  41.557809  24.947764  4.994774  0.329346\n",
       "Ramicane        228  40.216745  40.673236  23.486704  4.846308  0.320955\n",
       "Ketapril        188  55.235638  53.698743  68.553577  8.279709  0.603860\n",
       "Naftisol        186  54.331565  52.509285  66.173479  8.134708  0.596466\n",
       "Zoniferol       182  53.236507  51.818479  48.533355  6.966589  0.516398\n",
       "Placebo         181  54.033581  52.288934  61.168083  7.821003  0.581331\n",
       "Stelasyn        181  54.233149  52.431737  59.450562  7.710419  0.573111\n",
       "Ceftamin        178  52.591172  51.776157  39.290177  6.268188  0.469821\n",
       "Infubinol       178  52.884795  51.820584  43.128684  6.567243  0.492236\n",
       "Propriva        161  52.322552  50.854632  42.351070  6.507770  0.512884"
      ]
     },
     "execution_count": 6,
     "metadata": {},
     "output_type": "execute_result"
    }
   ],
   "source": [
    "#Generate a dataframe with the count present\n",
    "drug_data= merge_data.groupby(\"Drug Regimen\")\n",
    "drug_values= pd.DataFrame(drug_data.count())\n",
    "drug_values[\"Mean\"]= pd.DataFrame(drug_data[\"Tumor Volume (mm3)\"].mean())\n",
    "drug_values[\"Median\"]= pd.DataFrame(drug_data[\"Tumor Volume (mm3)\"].median())\n",
    "drug_values[\"Variance\"]= pd.DataFrame(drug_data[\"Tumor Volume (mm3)\"].var())\n",
    "drug_values[\"Std\"]= pd.DataFrame(drug_data[\"Tumor Volume (mm3)\"].std())\n",
    "drug_values[\"Sem\"]= pd.DataFrame(drug_data[\"Tumor Volume (mm3)\"].sem())\n",
    "\n",
    "drug_values= drug_values[[\"Mouse ID\", \"Mean\", \"Median\", \"Variance\", \"Std\", \"Sem\"]]\n",
    "drug_values = drug_values.rename(columns = {\"Mouse ID\" : \"Count\"})\n",
    "drug_values= drug_values.sort_values(\"Count\", ascending= False)\n",
    "drug_values\n"
   ]
  },
  {
   "cell_type": "markdown",
   "metadata": {},
   "source": [
    "## Bar Plots"
   ]
  },
  {
   "cell_type": "code",
   "execution_count": 7,
   "metadata": {},
   "outputs": [
    {
     "data": {
      "image/png": "[encoded data removed]",
      "text/plain": [
       "<Figure size 432x288 with 1 Axes>"
      ]
     },
     "metadata": {
      "needs_background": "light"
     },
     "output_type": "display_data"
    }
   ],
   "source": [
    "#Graphing with plt\n",
    "x_axis = np.arange(len(drug_values))\n",
    "tick_locations = [value for value in x_axis]  \n",
    "\n",
    "\n",
    "    # Create a list indicating where to write x labels and set figure size to adjust for space\n",
    "plt.figure(figsize=(6,4))\n",
    "plt.xticks(tick_locations, drug_values.index.values, rotation=\"vertical\")\n",
    "plt.bar(x_axis, drug_values[\"Count\"], color='b', alpha=0.8, align=\"center\", width = .5)\n",
    "# plt.xticks(tick_locations, drug_count, rotation=\"vertical\")\n",
    "plt.xlabel(\"Drug Regimen\")\n",
    "plt.ylabel(\"Number of Data Points\")\n",
    "plt.tight_layout()"
   ]
  },
  {
   "cell_type": "code",
   "execution_count": 8,
   "metadata": {},
   "outputs": [
    {
     "data": {
      "image/png": "[encoded data removed]",
      "text/plain": [
       "<Figure size 432x288 with 1 Axes>"
      ]
     },
     "metadata": {
      "needs_background": "light"
     },
     "output_type": "display_data"
    },
    {
     "data": {
      "text/plain": [
       "<Figure size 432x288 with 0 Axes>"
      ]
     },
     "metadata": {},
     "output_type": "display_data"
    }
   ],
   "source": [
    "#Graphing with pyplot\n",
    "# Configure plot and ticks\n",
    "drug_values[\"Count\"].plot(kind=\"bar\", facecolor=\"blue\", legend=False)\n",
    "\n",
    "plt.xlabel(\"Drug Regimen\")\n",
    "plt.ylabel(\"Number of Data Points\")\n",
    "\n",
    "\n",
    "# Show plot\n",
    "plt.show()  \n",
    "plt.tight_layout()"
   ]
  },
  {
   "cell_type": "markdown",
   "metadata": {},
   "source": [
    "## Pie Plots"
   ]
  },
  {
   "cell_type": "code",
   "execution_count": 9,
   "metadata": {},
   "outputs": [
    {
     "data": {
      "text/html": [
       "<div>\n",
       "<style scoped>\n",
       "    .dataframe tbody tr th:only-of-type {\n",
       "        vertical-align: middle;\n",
       "    }\n",
       "\n",
       "    .dataframe tbody tr th {\n",
       "        vertical-align: top;\n",
       "    }\n",
       "\n",
       "    .dataframe thead th {\n",
       "        text-align: right;\n",
       "    }\n",
       "</style>\n",
       "<table border=\"1\" class=\"dataframe\">\n",
       "  <thead>\n",
       "    <tr style=\"text-align: right;\">\n",
       "      <th></th>\n",
       "      <th>Sex</th>\n",
       "    </tr>\n",
       "  </thead>\n",
       "  <tbody>\n",
       "    <tr>\n",
       "      <td>Male</td>\n",
       "      <td>125</td>\n",
       "    </tr>\n",
       "    <tr>\n",
       "      <td>Female</td>\n",
       "      <td>124</td>\n",
       "    </tr>\n",
       "  </tbody>\n",
       "</table>\n",
       "</div>"
      ],
      "text/plain": [
       "        Sex\n",
       "Male    125\n",
       "Female  124"
      ]
     },
     "execution_count": 9,
     "metadata": {},
     "output_type": "execute_result"
    }
   ],
   "source": [
    "#Make  dataframe with gender\n",
    "gender_data= merge_data.groupby(\"Mouse ID\").first()\n",
    "gender_cnt= gender_data[\"Sex\"].value_counts()\n",
    "gender_cnt= pd.DataFrame({\"Sex\":gender_cnt})\n",
    "gender_cnt\n"
   ]
  },
  {
   "cell_type": "code",
   "execution_count": 10,
   "metadata": {},
   "outputs": [
    {
     "data": {
      "image/png": "[encoded data removed]",
      "text/plain": [
       "<Figure size 432x288 with 1 Axes>"
      ]
     },
     "metadata": {},
     "output_type": "display_data"
    }
   ],
   "source": [
    "#Pie chart with plt\n",
    "colors = [\"blue\", \"orange\"]\n",
    "explode = (0, 0)\n",
    "plt.pie(gender_cnt[\"Sex\"], explode=explode, labels=gender_cnt.index.values, colors=colors,autopct=\"%1.1f%%\", shadow=True, startangle=360)\n",
    "plt.axis(\"equal\")\n",
    "plt.title(\"Sex\")\n",
    "plt.show()"
   ]
  },
  {
   "cell_type": "code",
   "execution_count": 11,
   "metadata": {},
   "outputs": [
    {
     "data": {
      "text/plain": [
       "<matplotlib.axes._subplots.AxesSubplot at 0x1702d689948>"
      ]
     },
     "execution_count": 11,
     "metadata": {},
     "output_type": "execute_result"
    },
    {
     "data": {
      "image/png": "[encoded data removed]",
      "text/plain": [
       "<Figure size 432x288 with 1 Axes>"
      ]
     },
     "metadata": {},
     "output_type": "display_data"
    }
   ],
   "source": [
    "#Pie chart with pyplot\n",
    "gender_cnt[\"Sex\"].plot(kind=\"pie\", explode=explode, labels=gender_cnt.index.values, colors=colors,\n",
    "        autopct=\"%1.1f%%\", shadow=True, startangle=360, legend=False)"
   ]
  },
  {
   "cell_type": "markdown",
   "metadata": {},
   "source": [
    "## Quartiles, Outliers & Boxplots"
   ]
  },
  {
   "cell_type": "code",
   "execution_count": 12,
   "metadata": {},
   "outputs": [],
   "source": [
    "#Filter data value with adequate drug \n",
    "filtered_df = merge_data.loc[(merge_data[\"Drug Regimen\"] == \"Capomulin\") | (merge_data[\"Drug Regimen\"] == \"Ramicane\") | (merge_data[\"Drug Regimen\"] == \"Ceftamin\") | (merge_data[\"Drug Regimen\"] == \"Infubinol\"), :]\n",
    "\n",
    "# Filtered Capomulin\n",
    "filtered_capo= merge_data.loc[(merge_data[\"Drug Regimen\"] == \"Capomulin\"), :]\n",
    "#Find the final tumor of each mouse by sorting and droping duplicates\n",
    "filtered_capo= filtered_capo.sort_values(\"Timepoint\", ascending= True)\n",
    "filtered_capo = filtered_capo.drop_duplicates(subset=\"Mouse ID\", keep='last')\n",
    "\n",
    "# Filtered Ramicane\n",
    "filtered_rami= merge_data.loc[(merge_data[\"Drug Regimen\"] == \"Ramicane\"), :]\n",
    "#Find the final tumor of each mouse by sorting and droping duplicates\n",
    "filtered_rami= filtered_rami.sort_values(\"Timepoint\", ascending= True)\n",
    "filtered_rami= filtered_rami.drop_duplicates(subset=\"Mouse ID\", keep='last')\n",
    "\n",
    "# Filtered Infubinol\n",
    "filtered_infu= merge_data.loc[(merge_data[\"Drug Regimen\"] == \"Infubinol\"), :]\n",
    "#Find the final tumor of each mouse by sorting and droping duplicates\n",
    "filtered_infu= filtered_infu.sort_values(\"Timepoint\", ascending= True)\n",
    "filtered_infu= filtered_infu.drop_duplicates(subset=\"Mouse ID\", keep='last')\n",
    "\n",
    "# Filtered Ceftamin\n",
    "filtered_ceft= merge_data.loc[(merge_data[\"Drug Regimen\"] == \"Ceftamin\"), :]\n",
    "#Find the final tumor of each mouse by sorting and droping duplicates\n",
    "filtered_ceft= filtered_ceft.sort_values(\"Timepoint\", ascending= True)\n",
    "filtered_ceft= filtered_ceft.drop_duplicates(subset=\"Mouse ID\", keep='last')\n"
   ]
  },
  {
   "cell_type": "code",
   "execution_count": 13,
   "metadata": {
    "scrolled": false
   },
   "outputs": [
    {
     "name": "stdout",
     "output_type": "stream",
     "text": [
      "The lower quartile of Capomulin is: 32.38\n",
      "The upper quartile of Capomulin is: 40.16\n",
      "The interquartile range of Capomulin is: 7.78\n",
      "The the median of Capomulin is: 38.13 \n",
      "Values below 20.71 could be outliers.\n",
      "Values above 51.83 could be outliers.\n"
     ]
    }
   ],
   "source": [
    "#Find the quartiles for Capomulin\n",
    "quartiles = filtered_capo[\"Tumor Volume (mm3)\"].quantile([.25,.5,.75])\n",
    "lowerq = round(quartiles[0.25],2)\n",
    "upperq = round(quartiles[0.75],2)\n",
    "iqr = round(upperq-lowerq,2)\n",
    "\n",
    "lower_bound = round(lowerq - (1.5*iqr),2)\n",
    "upper_bound = round(upperq + (1.5*iqr),2)\n",
    "# outliers= filtered_capo.loc[(filtered_capo[\"Tumor Volume (mm3)\"] > upper_bound) | (filtered_capo[\"Tumor Volume (mm3)\"] < lower_bound),:]\n",
    "\n",
    "\n",
    "print(f\"The lower quartile of Capomulin is: {lowerq}\")\n",
    "print(f\"The upper quartile of Capomulin is: {upperq}\")\n",
    "print(f\"The interquartile range of Capomulin is: {iqr}\")\n",
    "print(f\"The the median of Capomulin is: {round(quartiles[0.5],2)} \")\n",
    "print(f\"Values below {lower_bound} could be outliers.\")\n",
    "print(f\"Values above {upper_bound} could be outliers.\")\n"
   ]
  },
  {
   "cell_type": "code",
   "execution_count": 14,
   "metadata": {},
   "outputs": [
    {
     "name": "stdout",
     "output_type": "stream",
     "text": [
      "The lower quartile of Ramicane is: 31.56\n",
      "The upper quartile of Ramicane is: 40.66\n",
      "The interquartile range of Ramicane is: 9.1\n",
      "The the median of Ramicane is: 36.56 \n",
      "Values below 17.91 could be outliers.\n",
      "Values above 54.31 could be outliers.\n"
     ]
    }
   ],
   "source": [
    "#Find the quartiles for Ramicane\n",
    "quartiles = filtered_rami[\"Tumor Volume (mm3)\"].quantile([.25,.5,.75])\n",
    "lowerq = round(quartiles[0.25],2)\n",
    "upperq = round(quartiles[0.75],2)\n",
    "iqr = round(upperq-lowerq,2)\n",
    "\n",
    "lower_bound = round(lowerq - (1.5*iqr),2)\n",
    "upper_bound = round(upperq + (1.5*iqr),2)\n",
    "\n",
    "\n",
    "print(f\"The lower quartile of Ramicane is: {lowerq}\")\n",
    "print(f\"The upper quartile of Ramicane is: {upperq}\")\n",
    "print(f\"The interquartile range of Ramicane is: {iqr}\")\n",
    "print(f\"The the median of Ramicane is: {round(quartiles[0.5],2)} \")\n",
    "print(f\"Values below {lower_bound} could be outliers.\")\n",
    "print(f\"Values above {upper_bound} could be outliers.\")"
   ]
  },
  {
   "cell_type": "code",
   "execution_count": 15,
   "metadata": {},
   "outputs": [
    {
     "name": "stdout",
     "output_type": "stream",
     "text": [
      "The lower quartile of Infubinol is: 54.05\n",
      "The upper quartile of Infubinol is: 65.53\n",
      "The interquartile range of Infubinol is: 11.48\n",
      "The the median of Infubinol is: 60.17 \n",
      "Values below 36.83 could be outliers.\n",
      "Values above 82.75 could be outliers.\n"
     ]
    }
   ],
   "source": [
    "#Find the quartiles for Infubinol\n",
    "quartiles = filtered_infu[\"Tumor Volume (mm3)\"].quantile([.25,.5,.75])\n",
    "lowerq = round(quartiles[0.25],2)\n",
    "upperq = round(quartiles[0.75],2)\n",
    "iqr = round(upperq-lowerq,2)\n",
    "\n",
    "lower_bound = round(lowerq - (1.5*iqr),2)\n",
    "upper_bound = round(upperq + (1.5*iqr),2)\n",
    "\n",
    "\n",
    "print(f\"The lower quartile of Infubinol is: {lowerq}\")\n",
    "print(f\"The upper quartile of Infubinol is: {upperq}\")\n",
    "print(f\"The interquartile range of Infubinol is: {iqr}\")\n",
    "print(f\"The the median of Infubinol is: {round(quartiles[0.5],2)} \")\n",
    "print(f\"Values below {lower_bound} could be outliers.\")\n",
    "print(f\"Values above {upper_bound} could be outliers.\")"
   ]
  },
  {
   "cell_type": "code",
   "execution_count": 16,
   "metadata": {},
   "outputs": [
    {
     "name": "stdout",
     "output_type": "stream",
     "text": [
      "The lower quartile of Ceftamin is: 48.72\n",
      "The upper quartile of Ceftamin is: 64.3\n",
      "The interquartile range of Ceftamin is: 15.58\n",
      "The the median of Ceftamin is: 59.85 \n",
      "Values below 25.35 could be outliers.\n",
      "Values above 87.67 could be outliers.\n"
     ]
    }
   ],
   "source": [
    "#Find the quartiles for Ceftamin\n",
    "quartiles = filtered_ceft[\"Tumor Volume (mm3)\"].quantile([.25,.5,.75])\n",
    "lowerq = round(quartiles[0.25],2)\n",
    "upperq = round(quartiles[0.75],2)\n",
    "iqr = round(upperq-lowerq,2)\n",
    "\n",
    "lower_bound = round(lowerq - (1.5*iqr),2)\n",
    "upper_bound = round(upperq + (1.5*iqr),2)\n",
    "\n",
    "\n",
    "print(f\"The lower quartile of Ceftamin is: {lowerq}\")\n",
    "print(f\"The upper quartile of Ceftamin is: {upperq}\")\n",
    "print(f\"The interquartile range of Ceftamin is: {iqr}\")\n",
    "print(f\"The the median of Ceftamin is: {round(quartiles[0.5],2)} \")\n",
    "print(f\"Values below {lower_bound} could be outliers.\")\n",
    "print(f\"Values above {upper_bound} could be outliers.\")"
   ]
  },
  {
   "cell_type": "code",
   "execution_count": 17,
   "metadata": {},
   "outputs": [],
   "source": [
    "# capom= filtered_df.loc[(filtered_df[\"Drug Regimen\"] == \"Capomulin\"), :]\n",
    "# capom= capom.set_index(\"Drug Regimen\")\n",
    "# ram= filtered_df.loc[(filtered_df[\"Drug Regimen\"] == \"Ramicane\"), :]\n",
    "# ram= ram.set_index(\"Drug Regimen\")\n",
    "# infu= filtered_df.loc[(filtered_df[\"Drug Regimen\"] == \"Infubinol\"), :]\n",
    "# infu= infu.set_index(\"Drug Regimen\")\n",
    "# ceft= filtered_df.loc[(filtered_df[\"Drug Regimen\"] == \"Ceftamin\"), :]\n",
    "# ceft= ceft.set_index(\"Drug Regimen\")\n"
   ]
  },
  {
   "cell_type": "code",
   "execution_count": 18,
   "metadata": {},
   "outputs": [
    {
     "data": {
      "image/png": "[encoded data removed]",
      "text/plain": [
       "<Figure size 432x288 with 1 Axes>"
      ]
     },
     "metadata": {
      "needs_background": "light"
     },
     "output_type": "display_data"
    }
   ],
   "source": [
    "Tumor_capom = filtered_capo['Tumor Volume (mm3)']\n",
    "Tumor_ram = filtered_rami['Tumor Volume (mm3)']\n",
    "Tumor_infu = filtered_infu['Tumor Volume (mm3)']\n",
    "Tumor_ceft = filtered_ceft['Tumor Volume (mm3)']\n",
    "data= [Tumor_capom, Tumor_ram, Tumor_infu, Tumor_ceft]\n",
    "fig1, ax1 = plt.subplots()\n",
    "red_circle = dict(markerfacecolor='r')\n",
    "ax1.set_ylabel('Final Tumor Volume (mm3)')\n",
    "ax1.boxplot(data, flierprops=red_circle)\n",
    "plt.xticks([1, 2, 3, 4], [\"Capomulin\", \"Ramicane\", \"Infubinol\", \"Ceftamin\"])\n",
    "plt.show()"
   ]
  },
  {
   "cell_type": "markdown",
   "metadata": {},
   "source": [
    "## Line and Scatter Plots"
   ]
  },
  {
   "cell_type": "code",
   "execution_count": 19,
   "metadata": {},
   "outputs": [
    {
     "data": {
      "image/png": "[encoded data removed]",
      "text/plain": [
       "<Figure size 432x288 with 1 Axes>"
      ]
     },
     "metadata": {
      "needs_background": "light"
     },
     "output_type": "display_data"
    },
    {
     "data": {
      "text/plain": [
       "<Figure size 432x288 with 0 Axes>"
      ]
     },
     "metadata": {},
     "output_type": "display_data"
    }
   ],
   "source": [
    "# Generate a line plot\n",
    "# Single Mouse has an ID of g316. Filter fot this Mouse ID along with the drug Capomulin\n",
    "filtered_cap = merge_data.loc[(merge_data[\"Drug Regimen\"] == \"Capomulin\"), :]\n",
    "filtered_cap =filtered_cap.loc[(filtered_cap[\"Mouse ID\"] == \"g316\"), :]\n",
    "filtered_cap= filtered_cap[[\"Timepoint\",\"Tumor Volume (mm3)\"]]\n",
    "filtered_cap= filtered_cap.set_index(\"Timepoint\")\n",
    "# Plot the graph\n",
    "filtered_cap[\"Tumor Volume (mm3)\"].plot(kind=\"line\")\n",
    "plt.title(\"Capomulin Treatment of Mouse g316\")\n",
    "plt.xlabel(\"Timepoint (days)\")\n",
    "plt.ylabel(\"Tumor Volume (mm3)\")\n",
    "plt.xticks(rotation=0)\n",
    "plt.show()\n",
    "plt.tight_layout()\n",
    "\n",
    "\n",
    "\n"
   ]
  },
  {
   "cell_type": "code",
   "execution_count": 20,
   "metadata": {},
   "outputs": [
    {
     "data": {
      "image/png": "[encoded data removed]",
      "text/plain": [
       "<Figure size 432x288 with 1 Axes>"
      ]
     },
     "metadata": {
      "needs_background": "light"
     },
     "output_type": "display_data"
    }
   ],
   "source": [
    "# Generate a scatter plot of mouse weight versus average tumor volume for the Capomulin regimen\n",
    "capom= filtered_df.loc[(filtered_df[\"Drug Regimen\"] == \"Capomulin\"), :]\n",
    "capom= capom.set_index(\"Drug Regimen\")\n",
    "\n",
    "filtered_weight = capom.groupby('Mouse ID')\n",
    "\n",
    "\n",
    "#Calculate Tumor Volume mean\n",
    "capo_tumor_mean = (filtered_weight[\"Tumor Volume (mm3)\"]).mean()\n",
    "\n",
    "#Calculate Tumor Volume mean\n",
    "capo_weight_mean = (filtered_weight[\"Weight (g)\"]).mean()\n",
    "\n",
    "# Creating a new DataFrame for scatter plot\n",
    "\n",
    "plt.scatter(capo_weight_mean, capo_tumor_mean)\n",
    "plt.xlabel(\"Weight (g)\")\n",
    "plt.ylabel(\" Average Tumor Volume (mm3)\")\n",
    "plt.show()\n",
    "\n",
    "# filtered_weight = merge_data.loc[(merge_data[\"Drug Regimen\"] == \"Capomulin\"), :]\n",
    "# filtered_weight =filtered_weight.loc[(filtered_cap[\"Mouse ID\"] == \"g316\"), :]\n",
    "# filtered_weight= filtered_weight[[\"Weight (g)\",\"Tumor Volume (mm3)\"]]\n",
    "# filtered_cap= filtered_cap.set_index(\"Weight (g)\")\n",
    "# Plot the graph"
   ]
  },
  {
   "cell_type": "code",
   "execution_count": 21,
   "metadata": {
    "scrolled": true
   },
   "outputs": [
    {
     "data": {
      "image/png": "[encoded data removed]",
      "text/plain": [
       "<Figure size 432x288 with 1 Axes>"
      ]
     },
     "metadata": {
      "needs_background": "light"
     },
     "output_type": "display_data"
    },
    {
     "name": "stdout",
     "output_type": "stream",
     "text": [
      "The correlation between weight and tumor value is 0.84\n"
     ]
    }
   ],
   "source": [
    "# Calculate the correlation coefficient & linear regression model for mouse weight & average tumor volume for the Capomulin \n",
    "\n",
    "# Get the previous calculated x & y values\n",
    "capo_tumor_mean = (filtered_weight[\"Tumor Volume (mm3)\"]).mean()\n",
    "capo_weight_mean = (filtered_weight[\"Weight (g)\"]).mean()\n",
    "\n",
    "# Perform a linear regression on weight versus average tumor volume\n",
    "slope, int, r, p, std_err = st.linregress(capo_weight_mean, capo_tumor_mean)\n",
    "      \n",
    "# Create equation of line to calculate average tumor volume\n",
    "fit = slope * capo_weight_mean + int\n",
    "line_eq = \"y = \" + str(round(slope,2)) + \"x + \" + str(round(int,2))\n",
    "\n",
    "\n",
    "# Plot the linear model on top of scatter plot \n",
    "plt.scatter(capo_weight_mean, capo_tumor_mean)\n",
    "\n",
    "\n",
    "plt.xlabel(\"Weight (g)\")\n",
    "plt.ylabel(\" Average Tumor Volume (mm3)\")\n",
    "plt.plot(capo_weight_mean,fit,\"r-\")\n",
    "plt.annotate(line_eq,(20,36),fontsize=12,color=\"red\")\n",
    "plt.xticks(capo_weight_mean)\n",
    "plt.show()\n",
    "\n",
    "\n",
    "\n",
    "# Caculate correlation coefficient\n",
    "corr = round(st.pearsonr(capo_weight_mean,capo_tumor_mean)[0],2)\n",
    "print(f'The correlation between weight and tumor value is {corr}')"
   ]
  }
 ],
 "metadata": {
  "kernelspec": {
   "display_name": "Python 3",
   "language": "python",
   "name": "python3"
  },
  "language_info": {
   "codemirror_mode": {
    "name": "ipython",
    "version": 3
   },
   "file_extension": ".py",
   "mimetype": "text/x-python",
   "name": "python",
   "nbconvert_exporter": "python",
   "pygments_lexer": "ipython3",
   "version": "3.7.4"
  }
 },
 "nbformat": 4,
 "nbformat_minor": 2
}
